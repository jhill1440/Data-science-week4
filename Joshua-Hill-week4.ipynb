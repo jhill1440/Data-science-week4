{
  "metadata": {
    "kernelspec": {
      "name": "python",
      "display_name": "Pyolite",
      "language": "python"
    },
    "language_info": {
      "codemirror_mode": {
        "name": "python",
        "version": 3
      },
      "file_extension": ".py",
      "mimetype": "text/x-python",
      "name": "python",
      "nbconvert_exporter": "python",
      "pygments_lexer": "ipython3",
      "version": "3.8"
    }
  },
  "nbformat_minor": 4,
  "nbformat": 4,
  "cells": [
    {
      "cell_type": "markdown",
      "source": "<center>\n    <img src=\"https://s3-api.us-geo.objectstorage.softlayer.net/cf-courses-data/CognitiveClass/Logos/organization_logo/organization_logo.png\" width=\"300\" alt=\"cognitiveclass.ai logo\"  />\n</center>\n",
      "metadata": {}
    },
    {
      "cell_type": "markdown",
      "source": "# My Jupyter Notebook on IBM Watson Studio\n",
      "metadata": {}
    },
    {
      "cell_type": "markdown",
      "source": "**Joshua Hill**\n\nI am a Research Scientist",
      "metadata": {}
    },
    {
      "cell_type": "markdown",
      "source": "*I would like to learn more about data science to further my career in genomics.  I am currently a lab amnager in a DNA sequencing facility and would like to use data science to help refine some of more tricky items in our process.*",
      "metadata": {}
    },
    {
      "cell_type": "markdown",
      "source": "### My code is simple.  I am assigning a variable then printing the output of that variable",
      "metadata": {}
    },
    {
      "cell_type": "code",
      "source": "adds = 2 + 2\nprint(\"Two plus 2 equals \", adds)",
      "metadata": {
        "trusted": true
      },
      "execution_count": 6,
      "outputs": [
        {
          "name": "stdout",
          "text": "Two plus 2 equals  4\n",
          "output_type": "stream"
        }
      ]
    },
    {
      "cell_type": "markdown",
      "source": "This is a numbered list of 3 items\n1. apples\n2. pears\n3. oranges\n\nThis is a bullet list of 4 items\n* banana\n* mango\n* peach\n* kiwi\n\nA simple table\n\n| Fruit | Qty | Price |\n|-------|------|-------|\n| apple | 5 | 1 |\n| pear | 3 | 3 |\n| kiwi | 12 | 50 |",
      "metadata": {}
    },
    {
      "cell_type": "code",
      "source": "",
      "metadata": {},
      "execution_count": null,
      "outputs": []
    }
  ]
}